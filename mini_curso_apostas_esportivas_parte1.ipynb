{
  "nbformat": 4,
  "nbformat_minor": 0,
  "metadata": {
    "colab": {
      "provenance": []
    },
    "kernelspec": {
      "name": "python3",
      "display_name": "Python 3"
    },
    "language_info": {
      "name": "python"
    }
  },
  "cells": [
    {
      "cell_type": "code",
      "execution_count": null,
      "metadata": {
        "id": "sQp88OecbXf3"
      },
      "outputs": [],
      "source": [
        "# 1. Configuração do ambiente\n",
        "import pandas as pd\n",
        "import numpy as np\n",
        "import matplotlib.pyplot as plt\n",
        "import seaborn as sns\n",
        "import unicodedata\n",
        "import warnings\n",
        "warnings.simplefilter(action='ignore', category=pd.errors.SettingWithCopyWarning)\n",
        "\n",
        "# Evitar quebra de linha no print do DataFrame\n",
        "pd.set_option('display.width', 0)  # ou use um valor grande como 2000\n",
        "pd.set_option('display.max_columns', None)\n",
        "pd.set_option('display.expand_frame_repr', False)  # Impede quebra em várias linhas\n",
        "\n",
        "# 2. Leitura do CSV (ajuste o caminho se necessário)\n",
        "df = pd.read_csv(\"BRA.csv\")\n",
        "\n",
        "# Country: País onde ocorreu a partida (ex: Brazil)\n",
        "# League: Nome da liga (ex: Serie A)\n",
        "# Season: Ano da temporada (ex: 2012)\n",
        "# Date: Data do jogo (formato dia/mês/ano)\n",
        "# Time: Horário da partida (horário local, pode estar ausente em alguns jogos)\n",
        "# Home: Nome do time mandante\n",
        "# Away: Nome do time visitante\n",
        "# HG: Gols marcados pelo time da casa (Home Goals)\n",
        "# AG: Gols marcados pelo time visitante (Away Goals)\n",
        "# Res: Resultado da partida (H = vitória do mandante, D = empate, A = vitória do visitante)\n",
        "\n",
        "# PSCH, PSCD, PSCA: Odds de fechamento (closing odds) do mercado de apostas da Pinnacle para vitória do mandante (H), empate (D) e vitória do visitante (A)\n",
        "# MaxCH, MaxCD, MaxCA: Maiores odds disponíveis entre as casas de apostas para H, D e A\n",
        "# AvgCH, AvgCD, AvgCA: Odds médias do mercado para H, D e A\n",
        "\n",
        "# BFECH, BFECD, BFECA: Odds do site Betfair Exchange para H, D e A (podem estar ausentes)\n",
        "\n",
        "# 3. Visualização inicial\n",
        "print(df.head())\n",
        "print(\" \")\n",
        "print(df.info())\n",
        "print(\" \")\n",
        "print(df.describe())"
      ]
    },
    {
      "cell_type": "code",
      "source": [
        "df['Date'] = pd.to_datetime(df['Date'], format='%d/%m/%Y')"
      ],
      "metadata": {
        "id": "R6l6pp1tcc_H"
      },
      "execution_count": null,
      "outputs": []
    },
    {
      "cell_type": "code",
      "source": [
        "df['Home'] = df['Home'].str.strip().str.title()\n",
        "df['Away'] = df['Away'].str.strip().str.title()"
      ],
      "metadata": {
        "id": "_D5R6h72cjhd"
      },
      "execution_count": null,
      "outputs": []
    },
    {
      "cell_type": "code",
      "source": [
        "df.drop(columns=[\"BFECH\", \"BFECD\", \"BFECA\"], inplace=True)"
      ],
      "metadata": {
        "id": "zvMY5R1OcwXo"
      },
      "execution_count": null,
      "outputs": []
    },
    {
      "cell_type": "code",
      "source": [
        "print(df)"
      ],
      "metadata": {
        "id": "IYF7juTILecr"
      },
      "execution_count": null,
      "outputs": []
    },
    {
      "cell_type": "code",
      "source": [
        "# Padronização de Nomes de Times (Verificação)\n",
        "print(\"\\nNomes únicos de times da casa:\")\n",
        "print(df['Home'].unique())\n",
        "print(\"\\nNomes únicos de times visitantes:\")\n",
        "print(df['Away'].unique())"
      ],
      "metadata": {
        "id": "WiJ8QaUkJelr"
      },
      "execution_count": null,
      "outputs": []
    },
    {
      "cell_type": "code",
      "source": [
        "missing = df.isnull().sum()\n",
        "print(missing[missing > 0])\n",
        "\n",
        "df_missing = df[df.isna().any(axis=1)]\n",
        "print(df_missing)\n",
        "\n",
        "df.dropna(subset=['HG', 'AG', 'AvgCH', 'AvgCD', 'AvgCA'], inplace=True)"
      ],
      "metadata": {
        "id": "Vb_NOubUctkW"
      },
      "execution_count": null,
      "outputs": []
    },
    {
      "cell_type": "code",
      "source": [
        "# 7. Colunas auxiliares\n",
        "df[\"GoalDiff\"] = df[\"HG\"] - df[\"AG\"]\n",
        "df['Total_Goals'] = df['HG'] + df['AG']\n",
        "df[\"is_home_win\"] = df[\"Res\"] == \"H\"\n",
        "df[\"is_draw\"] = df[\"Res\"] == \"D\"\n",
        "df[\"is_away_win\"] = df[\"Res\"] == \"A\""
      ],
      "metadata": {
        "id": "U7XBJ6h2c_ET"
      },
      "execution_count": null,
      "outputs": []
    },
    {
      "cell_type": "code",
      "source": [
        "df[\"ProbH\"] = 1 / df[\"AvgCH\"]\n",
        "df[\"ProbD\"] = 1 / df[\"AvgCD\"]\n",
        "df[\"ProbA\"] = 1 / df[\"AvgCA\"]\n",
        "\n",
        "# Normalização das probabilidades\n",
        "df[\"sum_probs\"] = df[\"ProbH\"] + df[\"ProbD\"] + df[\"ProbA\"]\n",
        "df[\"ProbH\"] /= df[\"sum_probs\"]\n",
        "df[\"ProbD\"] /= df[\"sum_probs\"]\n",
        "df[\"ProbA\"] /= df[\"sum_probs\"]\n",
        "\n",
        "df['Margin'] = df[\"sum_probs\"] - 1"
      ],
      "metadata": {
        "id": "dKhgEqC6dtSj"
      },
      "execution_count": null,
      "outputs": []
    },
    {
      "cell_type": "code",
      "source": [
        "print(df)"
      ],
      "metadata": {
        "id": "D9j1ssVDd12d"
      },
      "execution_count": null,
      "outputs": []
    },
    {
      "cell_type": "code",
      "source": [
        "df['Res'].value_counts().plot(kind='bar', color='blue', alpha=0.4)\n",
        "plt.title('Frequência de Resultados')\n",
        "plt.xticks(ticks=[0, 1, 2], labels=['Vitória Casa', 'Empate', 'Vitória Visitante'], rotation=0)\n",
        "plt.show()"
      ],
      "metadata": {
        "id": "lpmAiUM0PcK6"
      },
      "execution_count": null,
      "outputs": []
    },
    {
      "cell_type": "code",
      "source": [
        "# Criar nova coluna categorizando o resultado\n",
        "df[\"Casa_Venceu\"] = df[\"Res\"].apply(lambda x: \"Vitória Casa\" if x == \"H\" else \"Empate ou Derrota\")\n",
        "\n",
        "# Contar e plotar\n",
        "df[\"Casa_Venceu\"].value_counts().plot(kind=\"bar\", color=\"blue\", alpha=0.4)\n",
        "plt.title(\"Frequência: Vitória em Casa vs. Empate ou Derrota\")\n",
        "plt.xticks(rotation=0)\n",
        "plt.ylabel(\"Número de Partidas\")\n",
        "plt.show()"
      ],
      "metadata": {
        "id": "q9xl5eQ4PhXV"
      },
      "execution_count": null,
      "outputs": []
    },
    {
      "cell_type": "code",
      "source": [
        "import matplotlib.pyplot as plt\n",
        "import seaborn as sns\n",
        "\n",
        "sns.histplot(df['HG'], bins=range(0, 7), kde=False)\n",
        "plt.title(\"Distribuição de Gols Marcados (Casa)\")\n",
        "plt.show()\n",
        "\n",
        "sns.histplot(df['AG'], bins=range(0, 7), kde=False)\n",
        "plt.title(\"Distribuição de Gols Marcados (Fora)\")\n",
        "plt.show()\n"
      ],
      "metadata": {
        "id": "HGADd3bPd-Bb"
      },
      "execution_count": null,
      "outputs": []
    },
    {
      "cell_type": "code",
      "source": [
        "sns.boxplot(x='Season', y='HG', data=df)\n",
        "plt.xticks(rotation=45)\n",
        "plt.title(\"Total de Gols por Jogo (mandante) ao Longo das Temporadas\")\n",
        "plt.show()"
      ],
      "metadata": {
        "id": "MFnsOMazexDF"
      },
      "execution_count": null,
      "outputs": []
    },
    {
      "cell_type": "code",
      "source": [
        "sns.boxplot(x='Season', y='AG', data=df)\n",
        "plt.xticks(rotation=45)\n",
        "plt.title(\"Total de Gols por Jogo (visitante) ao Longo das Temporadas\")\n",
        "plt.show()"
      ],
      "metadata": {
        "id": "Ho8JEkdHe4Gu"
      },
      "execution_count": null,
      "outputs": []
    },
    {
      "cell_type": "code",
      "source": [
        "sns.boxplot(x='Season', y='Total_Goals', data=df)\n",
        "plt.xticks(rotation=45)\n",
        "plt.title(\"Total de Gols por Jogo ao Longo das Temporadas\")\n",
        "plt.show()"
      ],
      "metadata": {
        "id": "UNDxoeP9eIsk"
      },
      "execution_count": null,
      "outputs": []
    },
    {
      "cell_type": "code",
      "source": [
        "corr = df[['HG', 'AG', 'ProbH', 'ProbD', 'ProbA']].corr()\n",
        "sns.heatmap(corr, annot=True, cmap=\"coolwarm\")\n",
        "plt.title(\"Correlação entre Gols e Probabilidades\")\n",
        "plt.show()"
      ],
      "metadata": {
        "id": "WJ0-BH0HfaJp"
      },
      "execution_count": null,
      "outputs": []
    },
    {
      "cell_type": "code",
      "source": [
        "df['Year'] = df['Date'].dt.year\n",
        "sns.lineplot(data=df.groupby('Year')['Margin'].mean().reset_index(), x='Year', y='Margin')\n",
        "plt.title(\"Evolução da Margem das Casas de Apostas\")\n",
        "plt.show()"
      ],
      "metadata": {
        "id": "KPFmwZvefzPf"
      },
      "execution_count": null,
      "outputs": []
    },
    {
      "cell_type": "code",
      "source": [
        "# Calcular margens implícitas para cada conjunto de odds\n",
        "for prefix in [\"PS\", \"Max\", \"Avg\"]:\n",
        "    df[f\"{prefix}_H_Prob\"] = 1 / df[f\"{prefix}CH\"]\n",
        "    df[f\"{prefix}_D_Prob\"] = 1 / df[f\"{prefix}CD\"]\n",
        "    df[f\"{prefix}_A_Prob\"] = 1 / df[f\"{prefix}CA\"]\n",
        "    df[f\"{prefix}_Sum\"] = (\n",
        "        df[f\"{prefix}_H_Prob\"] + df[f\"{prefix}_D_Prob\"] + df[f\"{prefix}_A_Prob\"]\n",
        "    )\n",
        "    df[f\"{prefix}_Margin\"] = df[f\"{prefix}_Sum\"] - 1\n",
        "\n",
        "# Plotar as distribuições de margem\n",
        "plt.figure(figsize=(10, 6))\n",
        "for prefix in [\"PS\", \"Max\", \"Avg\"]:\n",
        "    sns.kdeplot(\n",
        "        df[f\"{prefix}_Margin\"], label=prefix, fill=True, alpha=0.4\n",
        "    )\n",
        "plt.title(\"Distribuição das Margens Implícitas das Casas de Apostas\")\n",
        "plt.xlabel(\"Margem\")\n",
        "plt.ylabel(\"Densidade\")\n",
        "plt.legend(title=\"Fonte da Odd\")\n",
        "plt.grid(True)\n",
        "plt.tight_layout()\n",
        "plt.show()"
      ],
      "metadata": {
        "id": "HPkQIrFRQpE8"
      },
      "execution_count": null,
      "outputs": []
    },
    {
      "cell_type": "code",
      "source": [
        "# Escolha um jogo com odds realistas (por exemplo, a 1ª linha)\n",
        "linha = df.iloc[5039]\n",
        "\n",
        "# PSCH  PSCD   PSCA\n",
        "\n",
        "odd_home = linha[\"PSCH\"]\n",
        "odd_draw = linha[\"PSCD\"]\n",
        "odd_away = linha[\"PSCA\"]\n",
        "\n",
        "# Odds com overround (o que o público realmente recebe)\n",
        "odds_com_spread = {\"H\": odd_home, \"D\": odd_draw, \"A\": odd_away}\n",
        "\n",
        "# Cálculo das probabilidades implícitas\n",
        "prob_H = 1 / odd_home\n",
        "prob_D = 1 / odd_draw\n",
        "prob_A = 1 / odd_away\n",
        "soma_probs = prob_H + prob_D + prob_A\n",
        "\n",
        "# Probabilidades normalizadas (como o público aposta)\n",
        "probabilidades_normalizadas = {\n",
        "    \"H\": prob_H / soma_probs,\n",
        "    \"D\": prob_D / soma_probs,\n",
        "    \"A\": prob_A / soma_probs\n",
        "}\n",
        "\n",
        "# Odds justas (sem overround)\n",
        "odds_justas = {k: 1 / v for k, v in probabilidades_normalizadas.items()}\n",
        "\n",
        "# Simulação\n",
        "np.random.seed(42)\n",
        "n_apostas = 1_000_000\n",
        "stake = 1.0\n",
        "apostas = np.random.choice([\"H\", \"D\", \"A\"], size=n_apostas, p=list(probabilidades_normalizadas.values()))\n",
        "\n",
        "# Resultado real (pegando da coluna Res)\n",
        "resultado_real = linha[\"Res\"]\n",
        "\n",
        "# Lucro da casa com odds COM spread\n",
        "pagamento_com_spread = np.sum([\n",
        "    stake * odds_com_spread[res] if res == resultado_real else 0\n",
        "    for res in apostas\n",
        "])\n",
        "lucro_casa_com_spread = n_apostas * stake - pagamento_com_spread\n",
        "\n",
        "# Lucro da casa com odds JUSTAS (para comparação)\n",
        "pagamento_justo = np.sum([\n",
        "    stake * odds_justas[res] if res == resultado_real else 0\n",
        "    for res in apostas\n",
        "])\n",
        "lucro_casa_justa = n_apostas * stake - pagamento_justo\n",
        "\n",
        "# Formatando os dicionários para remoção de np.float64\n",
        "odds_com_spread_fmt = {k: round(float(v), 3) for k, v in odds_com_spread.items()}\n",
        "odds_justas_fmt = {k: round(float(v), 3) for k, v in odds_justas.items()}\n",
        "probs_fmt = {k: round(float(v), 4) for k, v in probabilidades_normalizadas.items()}\n",
        "\n",
        "# Exibir resultados limpos\n",
        "print(f\"🎯 Jogo: {linha['Home']} x {linha['Away']} — Resultado real: {resultado_real}\")\n",
        "print(f\"\\nOdds com spread: {odds_com_spread_fmt}\")\n",
        "print(f\"Odds justas (normalizadas): {odds_justas_fmt}\")\n",
        "print(f\"\\n🔢 Probabilidades implícitas normalizadas: {probs_fmt}\")\n",
        "print(f\"\\n💰 Lucro da casa com spread: R${lucro_casa_com_spread:,.2f}\")\n",
        "print(f\"💸 Lucro da casa com odds justas: R${lucro_casa_justa:,.2f}\")\n",
        "print(f\"\\n📈 Diferença: R${(lucro_casa_com_spread - lucro_casa_justa):,.2f}\")\n"
      ],
      "metadata": {
        "id": "47sKqNNfR0UD"
      },
      "execution_count": null,
      "outputs": []
    },
    {
      "cell_type": "code",
      "source": [
        "# Diferença entre maior e menor odd para cada linha (Avg odds) # PSCH  PSCD   PSCA\n",
        "df[\"OddsSpread\"] = df[[\"PSCH\",\"PSCD\",\"PSCA\"]].max(axis=1) - df[[\"PSCH\",\"PSCD\",\"PSCA\"]].min(axis=1)\n",
        "\n",
        "# Correlação entre spread das odds e a margem da casa\n",
        "correlation = df[[\"OddsSpread\", \"Avg_Margin\"]].corr()\n",
        "print(correlation)\n",
        "\n",
        "# Visualização com linha de tendência linear\n",
        "plt.figure(figsize=(8, 5))\n",
        "sns.regplot(\n",
        "    data=df,\n",
        "    x=\"OddsSpread\",\n",
        "    y=\"Avg_Margin\",\n",
        "    scatter_kws={\"alpha\": 0.3},\n",
        "    line_kws={\"color\": \"red\"}\n",
        ")\n",
        "plt.title(\"Correlação entre Dispersão das Odds e Margem da Casa\")\n",
        "plt.xlabel(\"Diferença Máxima entre Odds (Spread)\")\n",
        "plt.ylabel(\"Margem da Casa (Avg)\")\n",
        "plt.grid(True)\n",
        "plt.tight_layout()\n",
        "plt.show()"
      ],
      "metadata": {
        "id": "TD8_gt-hX1lY"
      },
      "execution_count": null,
      "outputs": []
    },
    {
      "cell_type": "code",
      "source": [
        "# Escolha um jogo com odds realistas (por exemplo, a 1ª linha)\n",
        "linha = df.iloc[5039]\n",
        "\n",
        "# PSCH  PSCD   PSCA\n",
        "\n",
        "odd_home = linha[\"PSCH\"]\n",
        "odd_draw = linha[\"PSCD\"]\n",
        "odd_away = linha[\"PSCA\"]\n",
        "\n",
        "print(f\"🎯 Jogo: {linha['Home']} x {linha['Away']} — Resultado real: {resultado_real}\")\n",
        "\n",
        "# Aposta unitária e número total de apostas\n",
        "stake = 1.0\n",
        "total_apostas = 1_000_000\n",
        "\n",
        "# Probabilidades implícitas normalizadas\n",
        "inv_probs = {\n",
        "    \"H\": 1 / odd_home,\n",
        "    \"D\": 1 / odd_draw,\n",
        "    \"A\": 1 / odd_away\n",
        "}\n",
        "soma = sum(inv_probs.values())\n",
        "prob_imp = {k: v / soma for k, v in inv_probs.items()}\n",
        "\n",
        "# Mostrar as probabilidades implícitas\n",
        "print(\"🎯 Probabilidades Implícitas Normalizadas:\")\n",
        "for k, v in prob_imp.items():\n",
        "    print(f\"  {k}: {v:.4f}\")\n",
        "\n",
        "# Criar cenários variando a preferência do público\n",
        "cenarios = {\n",
        "    \"proporcional\": [prob_imp[\"H\"], prob_imp[\"D\"], prob_imp[\"A\"]],\n",
        "    \"enviesado_home\": [prob_imp[\"H\"] * 1.3, prob_imp[\"D\"] * 0.85, prob_imp[\"A\"] * 0.85],\n",
        "    \"enviesado_draw\": [prob_imp[\"H\"] * 0.85, prob_imp[\"D\"] * 1.3, prob_imp[\"A\"] * 0.85],\n",
        "    \"enviesado_away\": [prob_imp[\"H\"] * 0.85, prob_imp[\"D\"] * 0.85, prob_imp[\"A\"] * 1.3],\n",
        "}\n",
        "\n",
        "# Normalizar cada cenário\n",
        "for k in cenarios:\n",
        "    total = sum(cenarios[k])\n",
        "    cenarios[k] = [x / total for x in cenarios[k]]\n",
        "\n",
        "# Odds por resultado\n",
        "odds = {\"H\": odd_home, \"D\": odd_draw, \"A\": odd_away}\n",
        "resultados = [\"H\", \"D\", \"A\"]\n",
        "\n",
        "# Simulação\n",
        "def simular_lucro(distribuicao, resultado_real, odds):\n",
        "    apostas = np.random.choice([\"H\", \"D\", \"A\"], size=total_apostas, p=distribuicao)\n",
        "    odds_apostas = np.vectorize(odds.get)(apostas)\n",
        "    ganhos = np.where(apostas == resultado_real, odds_apostas * stake, 0)\n",
        "    lucro_casa = total_apostas * stake - ganhos.sum()\n",
        "    return lucro_casa\n",
        "\n",
        "# Executar simulações\n",
        "for nome, dist in cenarios.items():\n",
        "    print(f\"\\n📊 Cenário: {nome.replace('_', ' ').title()}\")\n",
        "    for resultado in resultados:\n",
        "        lucro = simular_lucro(dist, resultado, odds)\n",
        "        print(f\"  Resultado real: {resultado} → Lucro da casa: R${lucro:,.2f}\")\n"
      ],
      "metadata": {
        "id": "64zr08DoaCsx"
      },
      "execution_count": null,
      "outputs": []
    },
    {
      "cell_type": "code",
      "source": [
        "# Criar faixas de odds balanceadas usando PSCH (Odds da Casa)\n",
        "df['Odds_Faixa'], bins = pd.qcut(df['PSCH'], q=10, retbins=True, labels=[f'Faixa {i+1}' for i in range(10)])\n",
        "\n",
        "# Marcar vitória em casa como 1, outras como 0\n",
        "df['Vitoria_Casa'] = (df['Res'] == 'H').astype(int)\n",
        "\n",
        "# Calcular probabilidade real por faixa (frequência de vitórias em casa)\n",
        "real_prob = df.groupby('Odds_Faixa', observed=True)['Vitoria_Casa'].mean()\n",
        "\n",
        "# Calcular média da probabilidade normalizada por faixa\n",
        "norm_prob = df.groupby('Odds_Faixa', observed=True)['ProbH'].mean()\n",
        "\n",
        "counts = df.groupby('Odds_Faixa', observed=True).size()\n",
        "\n",
        "# Criar DataFrame comparativo\n",
        "comparacao_prob = pd.DataFrame({\n",
        "    'Prob_Real': real_prob,\n",
        "    'Prob_Normalizada': norm_prob,\n",
        "    'Num_Jogos': counts\n",
        "}).reset_index()\n",
        "\n",
        "total_partidas = counts.sum()\n",
        "print(f\"Total de partidas: {total_partidas}\")\n",
        "print(comparacao_prob)\n",
        "\n",
        "\n",
        "# Criar rótulos com os ranges das odds\n",
        "ranges = [f\"{bins[i]:.2f} - {bins[i+1]:.2f}\" for i in range(len(bins) - 1)]\n",
        "comparacao_prob['Odds_Range'] = ranges\n",
        "\n",
        "# Plotando gráfico de barras lado a lado\n",
        "plt.figure(figsize=(12, 6))\n",
        "x = range(len(comparacao_prob))\n",
        "\n",
        "plt.bar(x, comparacao_prob['Prob_Real'], width=0.4, label='Probabilidade Real', alpha=0.7)\n",
        "plt.bar([p + 0.4 for p in x], comparacao_prob['Prob_Normalizada'], width=0.4, label='Probabilidade Normalizada', color='blue', alpha=0.7)\n",
        "\n",
        "# Ajustar eixo X com os ranges de odds\n",
        "plt.xticks([p + 0.2 for p in x], comparacao_prob['Odds_Range'], rotation=45)\n",
        "plt.xlabel('Faixas de Odds (PSCH)')\n",
        "plt.ylabel('Probabilidade')\n",
        "plt.title('Comparação: Probabilidade Real vs. Normalizada por Faixa de Odds da Casa')\n",
        "plt.legend()\n",
        "plt.tight_layout()\n",
        "plt.show()"
      ],
      "metadata": {
        "id": "WP0rdXwJbmsO"
      },
      "execution_count": null,
      "outputs": []
    },
    {
      "cell_type": "code",
      "source": [
        "# Identificar faixas de value bet\n",
        "faixas_valor = comparacao_prob[\n",
        "    comparacao_prob[\"Prob_Real\"] > comparacao_prob[\"Prob_Normalizada\"]\n",
        "][\"Odds_Faixa\"].tolist()\n",
        "\n",
        "print(faixas_valor)"
      ],
      "metadata": {
        "id": "OaYSTslib2Mc"
      },
      "execution_count": null,
      "outputs": []
    },
    {
      "cell_type": "code",
      "source": [
        "# Simular apostas apenas nos jogos onde a PSCH cai nas faixas de valor\n",
        "df[\"Aposta_Casa\"] = df[\"Odds_Faixa\"].isin(faixas_valor)\n",
        "df[\"Lucro\"] = 0.0\n",
        "df.loc[df[\"Aposta_Casa\"] & (df[\"Res\"] == \"H\"), \"Lucro\"] = df[\"PSCH\"] - 1\n",
        "df.loc[df[\"Aposta_Casa\"] & (df[\"Res\"] != \"H\"), \"Lucro\"] = -1\n",
        "\n",
        "# Avaliar desempenho\n",
        "total_apostas = df[\"Aposta_Casa\"].sum()\n",
        "lucro_total = df[\"Lucro\"].sum()\n",
        "roi = lucro_total / total_apostas if total_apostas > 0 else 0\n",
        "\n",
        "print(f\"Apostas simuladas: {total_apostas}\")\n",
        "print(f\"Lucro total: {lucro_total:.2f}\")\n",
        "print(f\"ROI: {roi:.2%}\")"
      ],
      "metadata": {
        "id": "6KsedHeib8fH"
      },
      "execution_count": null,
      "outputs": []
    },
    {
      "cell_type": "code",
      "source": [
        "# Dados até 2024 para calibrar a estratégia\n",
        "df_treino = df[df[\"Season\"] <= 2024].dropna(subset=[\"PSCH\", \"ProbH\", \"Res\"]).copy()\n",
        "\n",
        "# Dados de 2025 para testar a estratégia\n",
        "df_teste = df[df[\"Season\"] == 2025].dropna(subset=[\"PSCH\", \"ProbH\", \"Res\"]).copy()"
      ],
      "metadata": {
        "id": "uuRCWr8CcIZj"
      },
      "execution_count": null,
      "outputs": []
    },
    {
      "cell_type": "code",
      "source": [
        "# Faixas de odds com PSCH (apenas no treino)\n",
        "df_treino[\"Odds_Faixa\"], bins = pd.qcut(\n",
        "    df_treino[\"PSCH\"], q=10, retbins=True, labels=[f\"Faixa {i+1}\" for i in range(10)]\n",
        ")\n",
        "\n",
        "# Marcar vitórias da casa\n",
        "df_treino[\"Vitoria_Casa\"] = (df_treino[\"Res\"] == \"H\").astype(int)\n",
        "\n",
        "# Probabilidades reais e normalizadas por faixa\n",
        "real_prob = df_treino.groupby(\"Odds_Faixa\", observed=True)[\"Vitoria_Casa\"].mean()\n",
        "norm_prob = df_treino.groupby(\"Odds_Faixa\", observed=True)[\"ProbH\"].mean()\n",
        "\n",
        "counts = df_treino.groupby('Odds_Faixa', observed=True).size()\n",
        "\n",
        "total_partidas = counts.sum()\n",
        "print(f\"Total de partidas: {total_partidas}\")\n",
        "\n",
        "# Criar DataFrame comparativo\n",
        "comparacao_prob = pd.DataFrame({\n",
        "    'Prob_Real': real_prob,\n",
        "    'Prob_Normalizada': norm_prob,\n",
        "    'Num_Jogos': counts\n",
        "}).reset_index()\n",
        "\n",
        "# Adicionar os ranges\n",
        "ranges = [f\"{bins[i]:.2f} - {bins[i+1]:.2f}\" for i in range(len(bins) - 1)]\n",
        "comparacao_prob[\"Odds_Range\"] = ranges\n",
        "\n",
        "print(comparacao_prob)"
      ],
      "metadata": {
        "id": "NYGx3PygcNRO"
      },
      "execution_count": null,
      "outputs": []
    },
    {
      "cell_type": "code",
      "source": [
        "# Identificar faixas de value bet\n",
        "faixas_valor = comparacao_prob[\n",
        "    comparacao_prob[\"Prob_Real\"] > comparacao_prob[\"Prob_Normalizada\"]\n",
        "][\"Odds_Faixa\"].tolist()\n",
        "\n",
        "print(faixas_valor)"
      ],
      "metadata": {
        "id": "xDLzTdDpcVXl"
      },
      "execution_count": null,
      "outputs": []
    },
    {
      "cell_type": "code",
      "source": [
        "# Reusar os mesmos bins para rotular os dados de 2025\n",
        "df_teste[\"Odds_Faixa\"] = pd.cut(df_teste[\"PSCH\"], bins=bins, labels=[f\"Faixa {i+1}\" for i in range(10)])\n",
        "\n",
        "# Marcar onde apostar\n",
        "df_teste[\"Aposta_Casa\"] = df_teste[\"Odds_Faixa\"].isin(faixas_valor)\n",
        "\n",
        "# Calcular lucro\n",
        "df_teste[\"Lucro\"] = 0.0\n",
        "df_teste.loc[df_teste[\"Aposta_Casa\"] & (df_teste[\"Res\"] == \"H\"), \"Lucro\"] = df_teste[\"PSCH\"] - 1\n",
        "df_teste.loc[df_teste[\"Aposta_Casa\"] & (df_teste[\"Res\"] != \"H\"), \"Lucro\"] = -1\n",
        "\n",
        "# Avaliação\n",
        "total_apostas = df_teste[\"Aposta_Casa\"].sum()\n",
        "lucro_total = df_teste[\"Lucro\"].sum()\n",
        "roi = lucro_total / total_apostas if total_apostas > 0 else 0\n",
        "\n",
        "print(f\"Apostas simuladas em 2025: {total_apostas}\")\n",
        "print(f\"Lucro total: {lucro_total:.2f}\")\n",
        "print(f\"ROI: {roi:.2%}\")"
      ],
      "metadata": {
        "id": "_8kN_ZG5caLl"
      },
      "execution_count": null,
      "outputs": []
    },
    {
      "cell_type": "code",
      "source": [
        "# Filtrar apenas as apostas realizadas\n",
        "df_apostas = df_teste[df_teste[\"Aposta_Casa\"]].copy()\n",
        "\n",
        "# Agrupar por faixa\n",
        "resultado_por_faixa = df_apostas.groupby(\"Odds_Faixa\", observed=True).agg(\n",
        "    Total_Apostas=(\"Aposta_Casa\", \"sum\"),\n",
        "    Lucro_Total=(\"Lucro\", \"sum\"),\n",
        "    Media_Odd=(\"PSCH\", \"mean\")\n",
        ")\n",
        "\n",
        "# Calcular ROI por faixa\n",
        "resultado_por_faixa[\"ROI\"] = resultado_por_faixa[\"Lucro_Total\"] / resultado_por_faixa[\"Total_Apostas\"]\n",
        "\n",
        "# Resetar índice para exibir como tabela\n",
        "resultado_por_faixa = resultado_por_faixa.reset_index()\n",
        "\n",
        "# Exibir\n",
        "print(resultado_por_faixa)"
      ],
      "metadata": {
        "id": "f3JmFzFAclQV"
      },
      "execution_count": null,
      "outputs": []
    },
    {
      "cell_type": "code",
      "source": [
        "# Soma dos lucros e apostas por faixa\n",
        "lucro_somado = resultado_por_faixa[\"Lucro_Total\"].sum()\n",
        "apostas_somadas = resultado_por_faixa[\"Total_Apostas\"].sum()\n",
        "roi_somado = lucro_somado / apostas_somadas if apostas_somadas > 0 else 0\n",
        "\n",
        "# Comparar com o resultado total\n",
        "print(\"=== Verificação de consistência ===\")\n",
        "print(f\"Lucro total (somado por faixa): {lucro_somado:.2f}  |  Lucro total direto: {lucro_total:.2f}\")\n",
        "print(f\"Apostas totais (somadas): {apostas_somadas}  |  Apostas totais direto: {total_apostas}\")\n",
        "print(f\"ROI (calculado por faixa): {roi_somado:.2%}  |  ROI direto: {roi:.2%}\")"
      ],
      "metadata": {
        "id": "XrMdNN9jcyey"
      },
      "execution_count": null,
      "outputs": []
    }
  ]
}